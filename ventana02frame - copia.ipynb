from tkinter import *

raiz = Tk()
raiz.title(" Ventana de Javi ")
#raiz.iconbitmap("Javicon.ico")
#raiz.geometry("650x400")
#esta es la parte RAIZ
raiz.config(bg="blue")
raiz.config(bd=20)
raiz.config(relief= "groove")
raiz.config(cursor= "hand1")
#esta es la parte FRAME
miframe=Frame()
miframe.pack(side="left",anchor="n")
miframe.config(bg= "red")
miframe.config(width= "650", height="400")
miframe.config(bd=10)
miframe.config(relief= "ridge")
miframe.config(cursor= "hand2")
raiz.mainloop()