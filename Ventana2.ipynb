{
 "cells": [
  {
   "cell_type": "code",
   "execution_count": 1,
   "metadata": {},
   "outputs": [],
   "source": [
    "from tkinter import *\n",
    "\n",
    "raiz = Tk()\n",
    "raiz.title(\" Ventana de Javi \")\n",
    "#raiz.iconbitmap(\"Javicon.ico\")\n",
    "#raiz.geometry(\"650x400\")\n",
    "#esta es la parte RAIZ\n",
    "raiz.config(bg=\"blue\")\n",
    "raiz.config(bd=20)\n",
    "raiz.config(relief= \"groove\")\n",
    "raiz.config(cursor= \"hand1\")\n",
    "#esta es la parte FRAME\n",
    "miframe=Frame()\n",
    "miframe.pack(side=\"left\",anchor=\"n\")\n",
    "miframe.config(bg= \"red\")\n",
    "miframe.config(width= \"650\", height=\"400\")\n",
    "miframe.config(bd=10)\n",
    "miframe.config(relief= \"ridge\")\n",
    "miframe.config(cursor= \"hand2\")\n",
    "raiz.mainloop()"
   ]
  }
 ],
 "metadata": {
  "kernelspec": {
   "display_name": "Python 3",
   "language": "python",
   "name": "python3"
  },
  "language_info": {
   "codemirror_mode": {
    "name": "ipython",
    "version": 3
   },
   "file_extension": ".py",
   "mimetype": "text/x-python",
   "name": "python",
   "nbconvert_exporter": "python",
   "pygments_lexer": "ipython3",
   "version": "3.12.3"
  }
 },
 "nbformat": 4,
 "nbformat_minor": 2
}
